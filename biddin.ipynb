{
 "cells": [
  {
   "cell_type": "code",
   "execution_count": 2,
   "metadata": {},
   "outputs": [
    {
     "name": "stdout",
     "output_type": "stream",
     "text": [
      "hi\n"
     ]
    }
   ],
   "source": [
    "print('hi')"
   ]
  },
  {
   "cell_type": "code",
   "execution_count": 3,
   "metadata": {},
   "outputs": [],
   "source": [
    "import numpy as np\n",
    "import pandas as pd\n",
    "import sys\n",
    "import time\n",
    "\n",
    "start = time.process_time()\n",
    "\n",
    "np = [{'Case':\"Normal\",'aaa':\"2018/041155-9-LE187\",'asda':\"Moba\" ,'Estado':\"1\", 'Promedio':17},\n",
    "      {'Case':\"Normal\",'aaa':\"2018/041155-9-LE187\",'asda':\"Opko\" ,'Estado':\"No 1\", 'Promedio':21},\n",
    "      {'Case':\"Normal\",'aaa':\"2018/041155-9-LE187\",'asda':\"BBB\" ,'Estado':\"No 1\", 'Promedio':24} ,\n",
    "     \n",
    "      #Case1 : WinPrice<SECOND_PRICE -Typical case get the second highest after win\n",
    "      {'Case':\"Normal\",'aaa':\"2019/111051765-53-LE192\",'asda':\"Moba\", 'Estado':\"No 1\", 'Promedio':74},\n",
    "      {'Case':\"Normal\",'aaa':\"2019/111051765-53-LE192\",'asda':\"Opko\" ,'Estado':\"1\", 'Promedio':58},\n",
    "      {'Case':\"Normal\",'aaa':\"2019/111051765-53-LE192\",'asda':\"BBB\", 'Estado':\"No 1\", 'Promedio':100},\n",
    "   \n",
    "      #Case 2:  WinPrice>SECOND_PRICE --> GAP TO SECOND = 0 --> Find the first lowest price after winning --> 420 (not 370)\n",
    "      {'Case':\"Not_Normal\",'aaa':\"2019/111058045-27-LQ192\",'asda':\"Opko\", 'Estado':\"No 1\", 'Promedio':370},\n",
    "      {'Case':\"Not_Normal\",'aaa':\"2019/111058045-27-LQ192\",'asda':\"Moba\" ,'Estado':\"No 1\", 'Promedio':425},\n",
    "      {'Case':\"Not_Normal\",'aaa':\"2019/111058045-27-LQ192\",'asda':\"Winpharm\",'Estado':\"No 1\", 'Promedio':420},\n",
    "     \n",
    "      # Case 3: No Winner --> Take only Lowest_Price, and second_price (if there is) if second=win --> second\n",
    "      {'Case':\"Not_Normal\",'aaa':\"2019/111058088-25-LE1914\",'asda':\"Moba\" ,'Estado':\"1\", 'Promedio':31},\n",
    "      {'Case':\"Not_Normal\",'aaa':\"2019/111058088-25-LE1914\",'asda':\"BBB\" ,'Estado':\"1\", 'Promedio':40},\n",
    "      {'Case':\"Not_Normal\",'aaa':\"2019/111058088-25-LE1914\",'asda':\"Opko\", 'Estado':\"No 1\", 'Promedio':26}]\n",
    "\n"
   ]
  },
  {
   "cell_type": "code",
   "execution_count": null,
   "metadata": {},
   "outputs": [],
   "source": []
  }
 ],
 "metadata": {
  "kernelspec": {
   "display_name": "Python 3",
   "language": "python",
   "name": "python3"
  },
  "language_info": {
   "codemirror_mode": {
    "name": "ipython",
    "version": 3
   },
   "file_extension": ".py",
   "mimetype": "text/x-python",
   "name": "python",
   "nbconvert_exporter": "python",
   "pygments_lexer": "ipython3",
   "version": "3.7.4"
  }
 },
 "nbformat": 4,
 "nbformat_minor": 2
}
